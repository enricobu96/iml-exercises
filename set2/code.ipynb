{
 "cells": [
  {
   "cell_type": "markdown",
   "metadata": {},
   "source": [
    "# Problem 8"
   ]
  },
  {
   "cell_type": "code",
   "execution_count": 113,
   "metadata": {},
   "outputs": [],
   "source": [
    "import pandas as pd\n",
    "import numpy as np\n",
    "from sklearn.naive_bayes import GaussianNB\n",
    "\n",
    "training_data = pd.read_csv('./penguins_train.csv')\n",
    "test_data = pd.read_csv('./penguins_test.csv')"
   ]
  },
  {
   "cell_type": "code",
   "execution_count": null,
   "metadata": {},
   "outputs": [],
   "source": [
    "# task a\n",
    "ad = training_data[training_data['species'] == 'Adelie']\n",
    "nad = training_data[training_data['species'] == 'notAdelie']\n",
    "\n",
    "# means and stds\n",
    "print('For Adelie')\n",
    "print('val\\tbill_length_mm\\tbill_depth_mm\\tflipper_length_mm\\tbody_mass_g')\n",
    "print('mean\\t', ad['bill_length_mm'].mean(), '\\t', ad['bill_depth_mm'].mean(), '\\t', ad['flipper_length_mm'].mean(), '\\t', ad['body_mass_g'].mean())\n",
    "print('std\\t', ad['bill_length_mm'].std(), '\\t', ad['bill_depth_mm'].std(), '\\t', ad['flipper_length_mm'].std(), '\\t', ad['body_mass_g'].std())\n",
    "\n",
    "print('For notAdelie')\n",
    "print('val\\tbill_length_mm\\tbill_depth_mm\\tflipper_length_mm\\tbody_mass_g')\n",
    "print('mean\\t', nad['bill_length_mm'].mean(), '\\t', nad['bill_depth_mm'].mean(), '\\t', nad['flipper_length_mm'].mean(), '\\t', nad['body_mass_g'].mean())\n",
    "print('std\\t', nad['bill_length_mm'].std(), '\\t', nad['bill_depth_mm'].std(), '\\t', nad['flipper_length_mm'].std(), '\\t', nad['body_mass_g'].std())\n",
    "\n",
    "# class probabilities\n",
    "print('Class probabilities')\n",
    "prob_adelie = (len(ad)+1)/(2+len(training_data))\n",
    "prob_nadelie = (len(nad)+1)/(2+len(training_data))\n",
    "print('prob_adelie', prob_adelie)\n",
    "print('prob_nadelie', prob_nadelie)"
   ]
  },
  {
   "cell_type": "code",
   "execution_count": 138,
   "metadata": {},
   "outputs": [
    {
     "name": "stdout",
     "output_type": "stream",
     "text": [
      "Accuracy on test data = 0.92\n"
     ]
    }
   ],
   "source": [
    "# task c\n",
    "import scipy.stats\n",
    "\n",
    "# ignore it, focus on norms\n",
    "mean_x1_a = ad['bill_length_mm'].mean()\n",
    "mean_x2_a = ad['bill_depth_mm'].mean()\n",
    "mean_x3_a = ad['flipper_length_mm'].mean()\n",
    "mean_x4_a = ad['body_mass_g'].mean()\n",
    "\n",
    "mean_x1_na = nad['bill_length_mm'].mean()\n",
    "mean_x2_na = nad['bill_depth_mm'].mean()\n",
    "mean_x3_na = nad['flipper_length_mm'].mean()\n",
    "mean_x4_na = nad['body_mass_g'].mean()\n",
    "\n",
    "std_x1_a = ad['bill_length_mm'].std()\n",
    "std_x2_a = ad['bill_depth_mm'].std()\n",
    "std_x3_a = ad['flipper_length_mm'].std()\n",
    "std_x4_a = ad['body_mass_g'].std()\n",
    "\n",
    "std_x1_na = nad['bill_length_mm'].std()\n",
    "std_x2_na = nad['bill_depth_mm'].std()\n",
    "std_x3_na = nad['flipper_length_mm'].std()\n",
    "std_x4_na = nad['body_mass_g'].std()\n",
    "\n",
    "prior_adelie = (len(ad)+1)/(2+len(training_data))\n",
    "prior_notadelie = (len(nad)+1)/(2+len(training_data))\n",
    "norm_x1_a = scipy.stats.norm(mean_x1_a, std_x1_a)\n",
    "norm_x2_a = scipy.stats.norm(mean_x2_a, std_x2_a)\n",
    "norm_x3_a = scipy.stats.norm(mean_x3_a, std_x3_a)\n",
    "norm_x4_a = scipy.stats.norm(mean_x4_a, std_x4_a)\n",
    "\n",
    "norm_x1_na = scipy.stats.norm(mean_x1_na, std_x1_na)\n",
    "norm_x2_na = scipy.stats.norm(mean_x2_na, std_x2_na)\n",
    "norm_x3_na = scipy.stats.norm(mean_x3_na, std_x3_na)\n",
    "norm_x4_na = scipy.stats.norm(mean_x4_na, std_x4_na)\n",
    "\n",
    "def classify(row):\n",
    "    P = prior_adelie*norm_x1_a.pdf(row['bill_length_mm'])*norm_x2_a.pdf(row['bill_depth_mm'])*norm_x3_a.pdf(row['flipper_length_mm'])*norm_x4_a.pdf(row['body_mass_g'])\n",
    "    P = P/(P + prior_notadelie*norm_x1_na.pdf(row['bill_length_mm'])*norm_x2_na.pdf(row['bill_depth_mm'])*norm_x3_na.pdf(row['flipper_length_mm'])*norm_x4_na.pdf(row['body_mass_g']))\n",
    "    if P >= 0.5:\n",
    "        return 'Adelie'\n",
    "    else:\n",
    "        return 'notAdelie'\n",
    "\n",
    "right = 0\n",
    "for row in test_data.iterrows():\n",
    "    res = classify(row[1])\n",
    "    if res == row[1]['species']:\n",
    "        right+=1\n",
    "\n",
    "print('Accuracy on test data =', right/len(test_data))"
   ]
  },
  {
   "cell_type": "markdown",
   "metadata": {},
   "source": [
    "# Problem 9"
   ]
  },
  {
   "cell_type": "code",
   "execution_count": 104,
   "metadata": {},
   "outputs": [
    {
     "name": "stdout",
     "output_type": "stream",
     "text": [
      "Model coefficients\n",
      "[[ 1.57894316e+00 -9.79289548e-01  1.01773624e-03  5.10530046e-02]] [0.0364156]\n",
      "Accuracy on train data\n",
      "1.0\n",
      "Accuracy on test data\n",
      "0.9866666666666667\n",
      "Penguin number 10 in training dataset has linear response = 2.6439457287011408 bill_depth_mm          16.6\n",
      "bill_length_mm         36.5\n",
      "body_mass_g          2850.0\n",
      "flipper_length_mm     181.0\n",
      "Name: 9, dtype: float64\n"
     ]
    },
    {
     "data": {
      "image/png": "[encoded data removed]",
      "text/plain": [
       "<Figure size 576x432 with 1 Axes>"
      ]
     },
     "metadata": {
      "needs_background": "light"
     },
     "output_type": "display_data"
    }
   ],
   "source": [
    "import pandas as pd\n",
    "import numpy as np\n",
    "from sklearn.linear_model import LogisticRegression\n",
    "import matplotlib.pyplot as plt\n",
    "from scipy.special import expit, logit\n",
    "\n",
    "def calculate_x(coef, intercept, x):\n",
    "    toret = []\n",
    "    for _, row in x.iterrows():\n",
    "        t = coef[0]*row['bill_depth_mm']+coef[1]*row['bill_length_mm']+coef[2]*row['body_mass_g']+coef[3]*row['flipper_length_mm'] + intercept\n",
    "        toret.append(t)\n",
    "    return toret\n",
    "\n",
    "training_data = pd.read_csv('./penguins_train.csv')\n",
    "test_data = pd.read_csv('./penguins_test.csv')\n",
    "\n",
    "X_train = training_data[training_data.columns.difference(['species'])]\n",
    "y_train = training_data['species'].apply(lambda x: 1 if x=='Adelie' else 0)\n",
    "\n",
    "X_test = test_data[test_data.columns.difference(['species'])]\n",
    "y_test = test_data['species'].apply(lambda x: 1 if x=='Adelie' else 0)\n",
    "\n",
    "model = LogisticRegression().fit(X_train, y_train)\n",
    "print('Model coefficients')\n",
    "print(model.coef_, model.intercept_)\n",
    "\n",
    "print('Accuracy on train data')\n",
    "print(model.score(X_train, y_train))\n",
    "\n",
    "print('Accuracy on test data')\n",
    "print(model.score(X_test, y_test))\n",
    "\n",
    "plt.figure(1, figsize=(8, 6))\n",
    "plt.clf()\n",
    "plt.scatter(calculate_x(model.coef_[0], model.intercept_[0], X_train), y_train, color=\"black\", zorder=20)\n",
    "plt.scatter(calculate_x(model.coef_[0], model.intercept_[0], X_test), y_test, color=\"blue\", zorder=20)\n",
    "\n",
    "x_curve = np.linspace(-5, 10, 300)\n",
    "\n",
    "loss = expit(x_curve).ravel()\n",
    "plt.plot(x_curve, loss, color=\"red\", linewidth=2)\n",
    "\n",
    "print('Penguin number 10 in training dataset has linear response =', calculate_x(model.coef_[0], model.intercept_[0], X_train)[9], X_train.iloc[9])"
   ]
  },
  {
   "cell_type": "markdown",
   "metadata": {},
   "source": [
    "# Problem 11"
   ]
  },
  {
   "cell_type": "code",
   "execution_count": 1,
   "metadata": {},
   "outputs": [],
   "source": [
    "import pandas as pd\n",
    "import numpy as np\n",
    "import random\n",
    "\n",
    "def generate_set(n):\n",
    "    x1 = []\n",
    "    x2 = []\n",
    "    y = []\n",
    "    df = pd.DataFrame()\n",
    "    for i in range(0,n):\n",
    "        t = np.random.choice([0,1], p=[0.55,0.45])\n",
    "        y.append(t)\n",
    "        if t == 0:\n",
    "            decision = np.random.choice([0,1,2,3,4,5], p=[0.2,0.4,0,0.1,0.2,0.1])\n",
    "            if decision == 0:\n",
    "                x1.append(0)\n",
    "                x2.append(0)\n",
    "            elif decision == 1:\n",
    "                x1.append(0)\n",
    "                x2.append(1)\n",
    "            elif decision == 3:\n",
    "                x1.append(1)\n",
    "                x2.append(0)\n",
    "            elif decision ==4 :\n",
    "                x1.append(1)\n",
    "                x2.append(1)\n",
    "            else:\n",
    "                x1.append(1)\n",
    "                x2.append(2)\n",
    "        else:\n",
    "            decision = np.random.choice([0,1,2,3,4,5], p=[0.6,0.1,0.1,0.1,0,0.1])\n",
    "            if decision == 0:\n",
    "                x1.append(0)\n",
    "                x2.append(0)\n",
    "            elif decision == 1:\n",
    "                x1.append(0)\n",
    "                x2.append(1)\n",
    "            elif decision == 2:\n",
    "                x1.append(0)\n",
    "                x2.append(2)\n",
    "            elif decision == 3:\n",
    "                x1.append(1)\n",
    "                x2.append(0)\n",
    "            else:\n",
    "                x1.append(1)\n",
    "                x2.append(2)\n",
    "    df['x1'] = x1\n",
    "    df['x2'] = x2\n",
    "    df['y'] = y\n",
    "    return df\n",
    "\n",
    "test_set = generate_set(10000)\n",
    "training_sets = []\n",
    "\n",
    "for i in range(4,14):\n",
    "    training_sets.append(generate_set(2**i))"
   ]
  },
  {
   "cell_type": "code",
   "execution_count": 21,
   "metadata": {},
   "outputs": [
    {
     "data": {
      "image/png": "[encoded data removed]",
      "text/plain": [
       "<Figure size 720x576 with 6 Axes>"
      ]
     },
     "metadata": {
      "needs_background": "light"
     },
     "output_type": "display_data"
    }
   ],
   "source": [
    "from sklearn.naive_bayes import GaussianNB\n",
    "from sklearn.linear_model import LogisticRegression #already without interaction term. in order to use a interaction term create another column\n",
    "from sklearn.svm import SVC\n",
    "import matplotlib.pyplot as plt\n",
    "\n",
    "fig, axs = plt.subplots(3, 2, figsize=(10,8))\n",
    "\n",
    "x = ['2^4','2^5','2^6','2^7','2^8','2^9','2^10','2^11','2^12','2^13']\n",
    "# NB\n",
    "accuracies = []\n",
    "perplexities = []\n",
    "for i in range(0,10):\n",
    "    clf = GaussianNB().fit(training_sets[i][training_sets[i].columns.difference(['y'])], training_sets[i]['y'].astype('int'))\n",
    "    accuracy = clf.score(test_set[test_set.columns.difference(['y'])], test_set['y'].astype('int'))\n",
    "    accuracies.append(accuracy)\n",
    "\n",
    "axs[0, 0].plot(x, accuracies)\n",
    "axs[0, 0].set_title('Naive Bayes')\n",
    "\n",
    "#LR without interaction\n",
    "accuracies = []\n",
    "for i in range(0,10):\n",
    "    clf = LogisticRegression().fit(training_sets[i][training_sets[i].columns.difference(['y'])], training_sets[i]['y'].astype('int'))\n",
    "    accuracy = clf.score(test_set[test_set.columns.difference(['y'])], test_set['y'].astype('int'))\n",
    "    accuracies.append(accuracy)\n",
    "\n",
    "axs[0, 1].plot(x, accuracies)\n",
    "axs[0, 1].set_title('LR without interaction')\n",
    "\n",
    "#LR with interaction\n",
    "accuracies = []\n",
    "for i in range(0,10):\n",
    "    X = training_sets[i][training_sets[i].columns.difference(['y'])]\n",
    "    X_test = test_set[test_set.columns.difference(['y'])]\n",
    "    X['interaction'] = X['x1']*X['x2']\n",
    "    X_test['interaction'] = X_test['x1']*X_test['x2']\n",
    "\n",
    "    clf = LogisticRegression().fit(X, training_sets[i]['y'].astype('int'))\n",
    "    accuracy = clf.score(X_test, test_set['y'].astype('int'))\n",
    "    accuracies.append(accuracy)\n",
    "\n",
    "axs[1, 0].plot(x, accuracies)\n",
    "axs[1, 0].set_title('LR with interaction')\n",
    "\n",
    "# SVM\n",
    "accuracies = []\n",
    "for i in range(0,10):\n",
    "    clf = SVC().fit(training_sets[i][training_sets[i].columns.difference(['y'])], training_sets[i]['y'].astype('int'))\n",
    "    accuracy = clf.score(test_set[test_set.columns.difference(['y'])], test_set['y'].astype('int'))\n",
    "    accuracies.append(accuracy)\n",
    "\n",
    "axs[1, 1].plot(x, accuracies)\n",
    "axs[1, 1].set_title('SVM')\n",
    "\n",
    "# Dummy\n",
    "accuracies = []\n",
    "for i in range(0,10):\n",
    "    count = 0\n",
    "    for t in test_set['y']:\n",
    "        if t == np.random.choice([0,1], p=[0.55,0.45]):\n",
    "            count+=1\n",
    "    accuracies.append(count/len(test_set['y']))\n",
    "\n",
    "axs[2, 0].plot(x, accuracies)\n",
    "axs[2, 0].set_title('Dummy')\n",
    "for ax in axs.flat:\n",
    "    ax.label_outer()\n",
    "    \n",
    "plt.show()\n"
   ]
  },
  {
   "cell_type": "code",
   "execution_count": null,
   "metadata": {},
   "outputs": [],
   "source": []
  },
  {
   "cell_type": "markdown",
   "metadata": {},
   "source": [
    "# Problem 14"
   ]
  },
  {
   "cell_type": "code",
   "execution_count": 1,
   "metadata": {},
   "outputs": [],
   "source": [
    "import pandas as pd\n",
    "import numpy as np\n",
    "from sklearn.svm import SVC\n",
    "\n",
    "training_set = pd.read_csv('./data_svm_train.csv')\n",
    "test_set = pd.read_csv('./data_svm_test.csv')\n",
    "\n",
    "X_train = training_set['x1'].to_numpy().reshape(-1,1)\n",
    "y_train = training_set['y']\n",
    "\n",
    "X_test = test_set['x1'].to_numpy().reshape(-1,1)\n",
    "y_test = test_set['y']"
   ]
  },
  {
   "cell_type": "code",
   "execution_count": 2,
   "metadata": {},
   "outputs": [
    {
     "name": "stdout",
     "output_type": "stream",
     "text": [
      "WITH LINEAR KERNEL\n",
      "Changing C\n",
      "0.62\n",
      "0.62\n",
      "0.62\n",
      "0.62\n",
      "0.62\n",
      "0.62\n",
      "Changing tol\n",
      "0.62\n",
      "0.62\n",
      "0.62\n",
      "0.62\n",
      "0.615\n",
      "0.61\n"
     ]
    }
   ],
   "source": [
    "# kernel linear\n",
    "print('WITH LINEAR KERNEL')\n",
    "\n",
    "print('Changing C')\n",
    "for c in [1,5,10,20,50,100]:\n",
    "    clf = SVC(kernel='linear', C=c).fit(X_train, y_train)\n",
    "    print(clf.score(X_test, y_test))\n",
    "\n",
    "print('Changing tol')\n",
    "for t in [1e-5, 1e-4, 1e-3, 1e-2, 1e-1, 1]:\n",
    "    clf = SVC(kernel='linear', tol=t).fit(X_train, y_train)\n",
    "    print(clf.score(X_test, y_test))"
   ]
  },
  {
   "cell_type": "code",
   "execution_count": 3,
   "metadata": {},
   "outputs": [
    {
     "name": "stdout",
     "output_type": "stream",
     "text": [
      "WITH RBF KERNEL\n",
      "Standard\n",
      "0.78\n",
      "Changing C, gamma scale\n",
      "C\tAccuracy\n",
      "1 \t 0.78\n",
      "5 \t 0.8\n",
      "10 \t 0.8\n",
      "20 \t 0.805\n",
      "50 \t 0.805\n",
      "100 \t 0.8\n",
      "Changing C, gamma auto\n",
      "C\tAccuracy\n",
      "1 \t 0.8\n",
      "5 \t 0.805\n",
      "10 \t 0.805\n",
      "20 \t 0.8\n",
      "50 \t 0.8\n",
      "100 \t 0.8\n",
      "Changing tol\n",
      "Changing tol\n",
      "0.78\n",
      "0.78\n",
      "0.78\n",
      "0.78\n",
      "0.78\n",
      "0.78\n"
     ]
    }
   ],
   "source": [
    "print('WITH RBF KERNEL')\n",
    "print('Standard')\n",
    "clf = SVC(kernel='rbf').fit(X_train, y_train)\n",
    "print(clf.score(X_test, y_test))\n",
    "\n",
    "print('Changing C, gamma scale')\n",
    "print('C\\tAccuracy')\n",
    "for c in [1,5,10,20,50,100]:\n",
    "    clf = SVC(kernel='rbf', C=c).fit(X_train, y_train)\n",
    "    print(c, '\\t', clf.score(X_test, y_test))\n",
    "\n",
    "print('Changing C, gamma auto')\n",
    "print('C\\tAccuracy')\n",
    "for c in [1,5,10,20,50,100]:\n",
    "    clf = SVC(kernel='rbf', C=c, gamma='auto').fit(X_train, y_train)\n",
    "    print(c, '\\t', clf.score(X_test, y_test))\n",
    "\n",
    "print('Changing tol')\n",
    "print('Changing tol')\n",
    "for t in [1e-5, 1e-4, 1e-3, 1e-2, 1e-1, 1]:\n",
    "    clf = SVC(kernel='rbf', tol=t).fit(X_train, y_train)\n",
    "    print(clf.score(X_test, y_test))\n",
    "\n"
   ]
  },
  {
   "cell_type": "code",
   "execution_count": 4,
   "metadata": {},
   "outputs": [
    {
     "data": {
      "text/plain": [
       "0.8"
      ]
     },
     "execution_count": 4,
     "metadata": {},
     "output_type": "execute_result"
    }
   ],
   "source": [
    "training_set2 = training_set\n",
    "test_set2 = test_set\n",
    "\n",
    "X_train2 = training_set['x1']\n",
    "x2 = X_train2.apply(lambda x: x**2).rename('x2')\n",
    "X_train2 = pd.concat([X_train2, x2], axis=1)\n",
    "y_train2 = training_set['y']\n",
    "\n",
    "X_test2 = test_set['x1']\n",
    "x2t = X_test2.apply(lambda x: x**2).rename('x2')\n",
    "X_test2 = pd.concat([X_test2, x2t], axis=1)\n",
    "y_test2 = test_set['y']\n",
    "\n",
    "clf = SVC(kernel='linear').fit(X_train2, y_train2)\n",
    "clf.score(X_test2, y_test2)"
   ]
  },
  {
   "cell_type": "code",
   "execution_count": 8,
   "metadata": {},
   "outputs": [
    {
     "data": {
      "image/png": "[encoded data removed]",
      "text/plain": [
       "<Figure size 432x288 with 1 Axes>"
      ]
     },
     "metadata": {
      "needs_background": "light"
     },
     "output_type": "display_data"
    }
   ],
   "source": [
    "import matplotlib.pyplot as plt\n",
    "\n",
    "xm1 = []\n",
    "ym1 = []\n",
    "xp1 = []\n",
    "yp1 = []\n",
    "\n",
    "for i in range(0, len(X_test2)):\n",
    "    if y_test2[i] == -1:\n",
    "        xm1.append(X_test2.iloc[i]['x1'])\n",
    "        ym1.append(X_test2.iloc[i]['x2'] + 10)\n",
    "    else:\n",
    "        xp1.append(X_test2.iloc[i]['x1'])\n",
    "        yp1.append(X_test2.iloc[i]['x2'])\n",
    "\n",
    "\n",
    "plt.scatter(xm1, ym1, color='red')\n",
    "plt.scatter(xp1, yp1, color='black')\n",
    "plt.show()"
   ]
  },
  {
   "cell_type": "markdown",
   "metadata": {},
   "source": [
    "# Problem 13"
   ]
  },
  {
   "cell_type": "code",
   "execution_count": 12,
   "metadata": {},
   "outputs": [
    {
     "data": {
      "text/plain": [
       "<matplotlib.collections.PathCollection at 0x7f8ed878e970>"
      ]
     },
     "execution_count": 12,
     "metadata": {},
     "output_type": "execute_result"
    },
    {
     "data": {
      "image/png": "[encoded data removed]",
      "text/plain": [
       "<Figure size 432x288 with 1 Axes>"
      ]
     },
     "metadata": {
      "needs_background": "light"
     },
     "output_type": "display_data"
    }
   ],
   "source": [
    "import matplotlib.pyplot as plt\n",
    "\n",
    "xp = [0, 2, 3, 6, 8, 9, 16]\n",
    "xm = [5, 12, 13, 15, 18, 19, 21]\n",
    "y = [0, 0, 0, 0, 0, 0, 0]\n",
    "plt.scatter(xp, y, color='black')\n",
    "\n",
    "plt.scatter(xm, y, color='red')"
   ]
  }
 ],
 "metadata": {
  "interpreter": {
   "hash": "916dbcbb3f70747c44a77c7bcd40155683ae19c65e1c03b4aa3499c5328201f1"
  },
  "kernelspec": {
   "display_name": "Python 3.7.3 64-bit",
   "language": "python",
   "name": "python3"
  },
  "language_info": {
   "codemirror_mode": {
    "name": "ipython",
    "version": 3
   },
   "file_extension": ".py",
   "mimetype": "text/x-python",
   "name": "python",
   "nbconvert_exporter": "python",
   "pygments_lexer": "ipython3",
   "version": "3.9.7"
  },
  "orig_nbformat": 4
 },
 "nbformat": 4,
 "nbformat_minor": 2
}
