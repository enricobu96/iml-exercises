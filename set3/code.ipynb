{
 "cells": [
  {
   "cell_type": "markdown",
   "metadata": {},
   "source": [
    "# Problem 18"
   ]
  },
  {
   "cell_type": "code",
   "execution_count": null,
   "metadata": {},
   "outputs": [],
   "source": [
    "import pandas as pd\n",
    "import numpy as np\n",
    "from sklearn import preprocessing\n",
    "\n",
    "training_set = pd.read_csv('./npf_train.csv')\n",
    "del training_set['id']\n",
    "del training_set['partlybad']\n",
    "del training_set['date']\n",
    "y = training_set['class4'].astype('category')\n",
    "\n",
    "training_set = training_set[[c for c in training_set if 'mean' in c]].rename(columns= lambda x: x.replace('.mean', 'mean'))\n",
    "\n",
    "training_set = pd.concat([training_set, y], axis=1)\n",
    "colss = training_set.columns.difference(['class4'])\n",
    "scaled = preprocessing.scale(training_set[training_set.columns.difference(['class4'])])\n",
    "training_set = pd.concat([pd.DataFrame(scaled, columns=colss), y], axis=1)"
   ]
  },
  {
   "cell_type": "code",
   "execution_count": null,
   "metadata": {},
   "outputs": [],
   "source": [
    "# unscaled\n",
    "from sklearn.cluster import KMeans\n",
    "\n"
   ]
  },
  {
   "cell_type": "code",
   "execution_count": null,
   "metadata": {},
   "outputs": [],
   "source": [
    "# scaled"
   ]
  }
 ],
 "metadata": {
  "interpreter": {
   "hash": "916dbcbb3f70747c44a77c7bcd40155683ae19c65e1c03b4aa3499c5328201f1"
  },
  "kernelspec": {
   "display_name": "Python 3.7.3 64-bit",
   "language": "python",
   "name": "python3"
  },
  "language_info": {
   "codemirror_mode": {
    "name": "ipython",
    "version": 3
   },
   "file_extension": ".py",
   "mimetype": "text/x-python",
   "name": "python",
   "nbconvert_exporter": "python",
   "pygments_lexer": "ipython3",
   "version": "3.9.7"
  },
  "orig_nbformat": 4
 },
 "nbformat": 4,
 "nbformat_minor": 2
}
